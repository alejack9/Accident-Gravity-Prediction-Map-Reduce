{
 "cells": [
  {
   "cell_type": "code",
   "execution_count": 1,
   "metadata": {},
   "outputs": [
    {
     "data": {
      "text/plain": [
       "['./data/Accidents0514.csv',\n",
       " './data/Casualties0514.csv',\n",
       " './data/Vehicles0514.csv']"
      ]
     },
     "execution_count": 1,
     "metadata": {},
     "output_type": "execute_result"
    }
   ],
   "source": [
    "from sklearn.tree import DecisionTreeClassifier\n",
    "# from sklearn.model_selection import train_test_split\n",
    "\n",
    "# import numpy as np\n",
    "import pandas as pd\n",
    "import matplotlib.pyplot as plt\n",
    "import seaborn as sns\n",
    "\n",
    "files_name = ['Accidents0514.csv', 'Casualties0514.csv', 'Vehicles0514.csv' ]\n",
    "files_path = './data/'\n",
    "complete_pickle = f\"{files_path}complete_pickled.pkl\"\n",
    "\n",
    "main_data_path = \"../data/correct/\"\n",
    "\n",
    "files = [f'{files_path}{name}'for name in files_name]\n",
    "files"
   ]
  },
  {
   "cell_type": "markdown",
   "metadata": {},
   "source": [
    "# Preprocessing"
   ]
  },
  {
   "cell_type": "code",
   "execution_count": null,
   "metadata": {},
   "outputs": [],
   "source": [
    "df_acc = pd.read_csv(files[0], index_col=0, dtype={'LSOA_of_Accident_Location': str})\n",
    "df_cas = pd.read_csv(files[1], index_col=0).drop('Vehicle_Reference', axis=1)\n",
    "df_veh = pd.read_csv(files[2], index_col=0).drop('Vehicle_Reference', axis=1)"
   ]
  },
  {
   "cell_type": "code",
   "execution_count": null,
   "metadata": {},
   "outputs": [
    {
     "data": {
      "text/plain": [
       "((4287593, 64), (1640597, 31), (2216720, 13), (3004425, 20))"
      ]
     },
     "execution_count": 3,
     "metadata": {},
     "output_type": "execute_result"
    }
   ],
   "source": [
    "df = df_acc.join(df_cas, lsuffix='_Cas', how='inner').join(df_veh, lsuffix='_Veh', how='inner')"
   ]
  },
  {
   "cell_type": "markdown",
   "metadata": {},
   "source": [
    "Save the complete joined dataset not already preprocessed. "
   ]
  },
  {
   "cell_type": "code",
   "execution_count": 6,
   "metadata": {},
   "outputs": [],
   "source": [
    "df.to_csv(f'{files_path}complete.csv')\n",
    "df.to_pickle(f'{files_path}complete_pickled.pkl')"
   ]
  },
  {
   "cell_type": "markdown",
   "metadata": {},
   "source": [
    "Check columns with NaN values."
   ]
  },
  {
   "cell_type": "code",
   "execution_count": 62,
   "metadata": {},
   "outputs": [
    {
     "data": {
      "text/plain": [
       "LSOA_of_Accident_Location    282711\n",
       "Time                            264\n",
       "Location_Easting_OSGR           256\n",
       "Location_Northing_OSGR          256\n",
       "Longitude                       256\n",
       "Latitude                        256\n",
       "dtype: int64"
      ]
     },
     "execution_count": 62,
     "metadata": {},
     "output_type": "execute_result"
    }
   ],
   "source": [
    "nan_values = df.isna().sum()\n",
    "nan_values = nan_values[nan_values > 0].sort_values(ascending=False)\n",
    "nan_values"
   ]
  },
  {
   "cell_type": "code",
   "execution_count": 33,
   "metadata": {},
   "outputs": [
    {
     "data": {
      "text/plain": [
       "'6/64 columns have nan values'"
      ]
     },
     "execution_count": 33,
     "metadata": {},
     "output_type": "execute_result"
    }
   ],
   "source": [
    "f'{nan_values.shape[0]}/{df.shape[1]} columns have nan values'"
   ]
  },
  {
   "cell_type": "code",
   "execution_count": 30,
   "metadata": {},
   "outputs": [
    {
     "data": {
      "image/png": "[encoded data removed]",
      "text/plain": [
       "<Figure size 432x288 with 1 Axes>"
      ]
     },
     "metadata": {
      "needs_background": "light"
     },
     "output_type": "display_data"
    }
   ],
   "source": [
    "plt.barh(nan_values.index, nan_values, log=True)\n",
    "plt.show()"
   ]
  },
  {
   "cell_type": "markdown",
   "metadata": {},
   "source": [
    "Samples with missing latitude and longitude do not even have the Easting OSGR and Northing OSGR values."
   ]
  },
  {
   "cell_type": "code",
   "execution_count": 46,
   "metadata": {},
   "outputs": [
    {
     "data": {
      "text/html": [
       "<div>\n",
       "<style scoped>\n",
       "    .dataframe tbody tr th:only-of-type {\n",
       "        vertical-align: middle;\n",
       "    }\n",
       "\n",
       "    .dataframe tbody tr th {\n",
       "        vertical-align: top;\n",
       "    }\n",
       "\n",
       "    .dataframe thead th {\n",
       "        text-align: right;\n",
       "    }\n",
       "</style>\n",
       "<table border=\"1\" class=\"dataframe\">\n",
       "  <thead>\n",
       "    <tr style=\"text-align: right;\">\n",
       "      <th></th>\n",
       "      <th>Location_Easting_OSGR</th>\n",
       "      <th>Location_Northing_OSGR</th>\n",
       "      <th>Longitude</th>\n",
       "      <th>Latitude</th>\n",
       "      <th>Police_Force</th>\n",
       "      <th>Accident_Severity</th>\n",
       "      <th>Number_of_Vehicles</th>\n",
       "      <th>Number_of_Casualties</th>\n",
       "      <th>Date</th>\n",
       "      <th>Day_of_Week</th>\n",
       "      <th>...</th>\n",
       "      <th>Was_Vehicle_Left_Hand_Drive?</th>\n",
       "      <th>Journey_Purpose_of_Driver</th>\n",
       "      <th>Sex_of_Driver</th>\n",
       "      <th>Age_of_Driver</th>\n",
       "      <th>Age_Band_of_Driver</th>\n",
       "      <th>Engine_Capacity_(CC)</th>\n",
       "      <th>Propulsion_Code</th>\n",
       "      <th>Age_of_Vehicle</th>\n",
       "      <th>Driver_IMD_Decile</th>\n",
       "      <th>Driver_Home_Area_Type</th>\n",
       "    </tr>\n",
       "    <tr>\n",
       "      <th>Accident_Index</th>\n",
       "      <th></th>\n",
       "      <th></th>\n",
       "      <th></th>\n",
       "      <th></th>\n",
       "      <th></th>\n",
       "      <th></th>\n",
       "      <th></th>\n",
       "      <th></th>\n",
       "      <th></th>\n",
       "      <th></th>\n",
       "      <th></th>\n",
       "      <th></th>\n",
       "      <th></th>\n",
       "      <th></th>\n",
       "      <th></th>\n",
       "      <th></th>\n",
       "      <th></th>\n",
       "      <th></th>\n",
       "      <th></th>\n",
       "      <th></th>\n",
       "      <th></th>\n",
       "    </tr>\n",
       "  </thead>\n",
       "  <tbody>\n",
       "    <tr>\n",
       "      <th>200504AL05063</th>\n",
       "      <td>NaN</td>\n",
       "      <td>NaN</td>\n",
       "      <td>NaN</td>\n",
       "      <td>NaN</td>\n",
       "      <td>4</td>\n",
       "      <td>2</td>\n",
       "      <td>2</td>\n",
       "      <td>2</td>\n",
       "      <td>09/09/2005</td>\n",
       "      <td>6</td>\n",
       "      <td>...</td>\n",
       "      <td>1</td>\n",
       "      <td>15</td>\n",
       "      <td>1</td>\n",
       "      <td>35</td>\n",
       "      <td>6</td>\n",
       "      <td>-1</td>\n",
       "      <td>-1</td>\n",
       "      <td>-1</td>\n",
       "      <td>8</td>\n",
       "      <td>3</td>\n",
       "    </tr>\n",
       "    <tr>\n",
       "      <th>200504AL05063</th>\n",
       "      <td>NaN</td>\n",
       "      <td>NaN</td>\n",
       "      <td>NaN</td>\n",
       "      <td>NaN</td>\n",
       "      <td>4</td>\n",
       "      <td>2</td>\n",
       "      <td>2</td>\n",
       "      <td>2</td>\n",
       "      <td>09/09/2005</td>\n",
       "      <td>6</td>\n",
       "      <td>...</td>\n",
       "      <td>1</td>\n",
       "      <td>15</td>\n",
       "      <td>2</td>\n",
       "      <td>71</td>\n",
       "      <td>10</td>\n",
       "      <td>-1</td>\n",
       "      <td>-1</td>\n",
       "      <td>-1</td>\n",
       "      <td>8</td>\n",
       "      <td>3</td>\n",
       "    </tr>\n",
       "    <tr>\n",
       "      <th>200504AL05063</th>\n",
       "      <td>NaN</td>\n",
       "      <td>NaN</td>\n",
       "      <td>NaN</td>\n",
       "      <td>NaN</td>\n",
       "      <td>4</td>\n",
       "      <td>2</td>\n",
       "      <td>2</td>\n",
       "      <td>2</td>\n",
       "      <td>09/09/2005</td>\n",
       "      <td>6</td>\n",
       "      <td>...</td>\n",
       "      <td>1</td>\n",
       "      <td>15</td>\n",
       "      <td>1</td>\n",
       "      <td>35</td>\n",
       "      <td>6</td>\n",
       "      <td>-1</td>\n",
       "      <td>-1</td>\n",
       "      <td>-1</td>\n",
       "      <td>8</td>\n",
       "      <td>3</td>\n",
       "    </tr>\n",
       "    <tr>\n",
       "      <th>200504AL05063</th>\n",
       "      <td>NaN</td>\n",
       "      <td>NaN</td>\n",
       "      <td>NaN</td>\n",
       "      <td>NaN</td>\n",
       "      <td>4</td>\n",
       "      <td>2</td>\n",
       "      <td>2</td>\n",
       "      <td>2</td>\n",
       "      <td>09/09/2005</td>\n",
       "      <td>6</td>\n",
       "      <td>...</td>\n",
       "      <td>1</td>\n",
       "      <td>15</td>\n",
       "      <td>2</td>\n",
       "      <td>71</td>\n",
       "      <td>10</td>\n",
       "      <td>-1</td>\n",
       "      <td>-1</td>\n",
       "      <td>-1</td>\n",
       "      <td>8</td>\n",
       "      <td>3</td>\n",
       "    </tr>\n",
       "    <tr>\n",
       "      <th>200504AL05082</th>\n",
       "      <td>NaN</td>\n",
       "      <td>NaN</td>\n",
       "      <td>NaN</td>\n",
       "      <td>NaN</td>\n",
       "      <td>4</td>\n",
       "      <td>3</td>\n",
       "      <td>2</td>\n",
       "      <td>1</td>\n",
       "      <td>08/10/2005</td>\n",
       "      <td>7</td>\n",
       "      <td>...</td>\n",
       "      <td>1</td>\n",
       "      <td>15</td>\n",
       "      <td>3</td>\n",
       "      <td>-1</td>\n",
       "      <td>-1</td>\n",
       "      <td>1998</td>\n",
       "      <td>2</td>\n",
       "      <td>2</td>\n",
       "      <td>-1</td>\n",
       "      <td>-1</td>\n",
       "    </tr>\n",
       "    <tr>\n",
       "      <th>...</th>\n",
       "      <td>...</td>\n",
       "      <td>...</td>\n",
       "      <td>...</td>\n",
       "      <td>...</td>\n",
       "      <td>...</td>\n",
       "      <td>...</td>\n",
       "      <td>...</td>\n",
       "      <td>...</td>\n",
       "      <td>...</td>\n",
       "      <td>...</td>\n",
       "      <td>...</td>\n",
       "      <td>...</td>\n",
       "      <td>...</td>\n",
       "      <td>...</td>\n",
       "      <td>...</td>\n",
       "      <td>...</td>\n",
       "      <td>...</td>\n",
       "      <td>...</td>\n",
       "      <td>...</td>\n",
       "      <td>...</td>\n",
       "      <td>...</td>\n",
       "    </tr>\n",
       "    <tr>\n",
       "      <th>2008950004890</th>\n",
       "      <td>NaN</td>\n",
       "      <td>NaN</td>\n",
       "      <td>NaN</td>\n",
       "      <td>NaN</td>\n",
       "      <td>95</td>\n",
       "      <td>3</td>\n",
       "      <td>2</td>\n",
       "      <td>3</td>\n",
       "      <td>06/05/2008</td>\n",
       "      <td>3</td>\n",
       "      <td>...</td>\n",
       "      <td>1</td>\n",
       "      <td>15</td>\n",
       "      <td>1</td>\n",
       "      <td>20</td>\n",
       "      <td>4</td>\n",
       "      <td>1242</td>\n",
       "      <td>1</td>\n",
       "      <td>10</td>\n",
       "      <td>-1</td>\n",
       "      <td>1</td>\n",
       "    </tr>\n",
       "    <tr>\n",
       "      <th>2008950004890</th>\n",
       "      <td>NaN</td>\n",
       "      <td>NaN</td>\n",
       "      <td>NaN</td>\n",
       "      <td>NaN</td>\n",
       "      <td>95</td>\n",
       "      <td>3</td>\n",
       "      <td>2</td>\n",
       "      <td>3</td>\n",
       "      <td>06/05/2008</td>\n",
       "      <td>3</td>\n",
       "      <td>...</td>\n",
       "      <td>1</td>\n",
       "      <td>15</td>\n",
       "      <td>1</td>\n",
       "      <td>37</td>\n",
       "      <td>7</td>\n",
       "      <td>1905</td>\n",
       "      <td>2</td>\n",
       "      <td>12</td>\n",
       "      <td>-1</td>\n",
       "      <td>1</td>\n",
       "    </tr>\n",
       "    <tr>\n",
       "      <th>2008950005704</th>\n",
       "      <td>NaN</td>\n",
       "      <td>NaN</td>\n",
       "      <td>NaN</td>\n",
       "      <td>NaN</td>\n",
       "      <td>95</td>\n",
       "      <td>3</td>\n",
       "      <td>2</td>\n",
       "      <td>1</td>\n",
       "      <td>09/05/2008</td>\n",
       "      <td>6</td>\n",
       "      <td>...</td>\n",
       "      <td>1</td>\n",
       "      <td>15</td>\n",
       "      <td>2</td>\n",
       "      <td>52</td>\n",
       "      <td>8</td>\n",
       "      <td>-1</td>\n",
       "      <td>-1</td>\n",
       "      <td>-1</td>\n",
       "      <td>-1</td>\n",
       "      <td>1</td>\n",
       "    </tr>\n",
       "    <tr>\n",
       "      <th>2008950005704</th>\n",
       "      <td>NaN</td>\n",
       "      <td>NaN</td>\n",
       "      <td>NaN</td>\n",
       "      <td>NaN</td>\n",
       "      <td>95</td>\n",
       "      <td>3</td>\n",
       "      <td>2</td>\n",
       "      <td>1</td>\n",
       "      <td>09/05/2008</td>\n",
       "      <td>6</td>\n",
       "      <td>...</td>\n",
       "      <td>1</td>\n",
       "      <td>15</td>\n",
       "      <td>1</td>\n",
       "      <td>69</td>\n",
       "      <td>10</td>\n",
       "      <td>-1</td>\n",
       "      <td>-1</td>\n",
       "      <td>-1</td>\n",
       "      <td>-1</td>\n",
       "      <td>1</td>\n",
       "    </tr>\n",
       "    <tr>\n",
       "      <th>2008950007931</th>\n",
       "      <td>NaN</td>\n",
       "      <td>NaN</td>\n",
       "      <td>NaN</td>\n",
       "      <td>NaN</td>\n",
       "      <td>95</td>\n",
       "      <td>2</td>\n",
       "      <td>1</td>\n",
       "      <td>1</td>\n",
       "      <td>27/09/2008</td>\n",
       "      <td>7</td>\n",
       "      <td>...</td>\n",
       "      <td>1</td>\n",
       "      <td>15</td>\n",
       "      <td>1</td>\n",
       "      <td>55</td>\n",
       "      <td>8</td>\n",
       "      <td>1199</td>\n",
       "      <td>1</td>\n",
       "      <td>6</td>\n",
       "      <td>-1</td>\n",
       "      <td>1</td>\n",
       "    </tr>\n",
       "  </tbody>\n",
       "</table>\n",
       "<p>256 rows × 64 columns</p>\n",
       "</div>"
      ],
      "text/plain": [
       "                Location_Easting_OSGR  Location_Northing_OSGR  Longitude  \\\n",
       "Accident_Index                                                             \n",
       "200504AL05063                     NaN                     NaN        NaN   \n",
       "200504AL05063                     NaN                     NaN        NaN   \n",
       "200504AL05063                     NaN                     NaN        NaN   \n",
       "200504AL05063                     NaN                     NaN        NaN   \n",
       "200504AL05082                     NaN                     NaN        NaN   \n",
       "...                               ...                     ...        ...   \n",
       "2008950004890                     NaN                     NaN        NaN   \n",
       "2008950004890                     NaN                     NaN        NaN   \n",
       "2008950005704                     NaN                     NaN        NaN   \n",
       "2008950005704                     NaN                     NaN        NaN   \n",
       "2008950007931                     NaN                     NaN        NaN   \n",
       "\n",
       "                Latitude  Police_Force  Accident_Severity  Number_of_Vehicles  \\\n",
       "Accident_Index                                                                  \n",
       "200504AL05063        NaN             4                  2                   2   \n",
       "200504AL05063        NaN             4                  2                   2   \n",
       "200504AL05063        NaN             4                  2                   2   \n",
       "200504AL05063        NaN             4                  2                   2   \n",
       "200504AL05082        NaN             4                  3                   2   \n",
       "...                  ...           ...                ...                 ...   \n",
       "2008950004890        NaN            95                  3                   2   \n",
       "2008950004890        NaN            95                  3                   2   \n",
       "2008950005704        NaN            95                  3                   2   \n",
       "2008950005704        NaN            95                  3                   2   \n",
       "2008950007931        NaN            95                  2                   1   \n",
       "\n",
       "                Number_of_Casualties        Date  Day_of_Week  ...  \\\n",
       "Accident_Index                                                 ...   \n",
       "200504AL05063                      2  09/09/2005            6  ...   \n",
       "200504AL05063                      2  09/09/2005            6  ...   \n",
       "200504AL05063                      2  09/09/2005            6  ...   \n",
       "200504AL05063                      2  09/09/2005            6  ...   \n",
       "200504AL05082                      1  08/10/2005            7  ...   \n",
       "...                              ...         ...          ...  ...   \n",
       "2008950004890                      3  06/05/2008            3  ...   \n",
       "2008950004890                      3  06/05/2008            3  ...   \n",
       "2008950005704                      1  09/05/2008            6  ...   \n",
       "2008950005704                      1  09/05/2008            6  ...   \n",
       "2008950007931                      1  27/09/2008            7  ...   \n",
       "\n",
       "               Was_Vehicle_Left_Hand_Drive?  Journey_Purpose_of_Driver  \\\n",
       "Accident_Index                                                           \n",
       "200504AL05063                             1                         15   \n",
       "200504AL05063                             1                         15   \n",
       "200504AL05063                             1                         15   \n",
       "200504AL05063                             1                         15   \n",
       "200504AL05082                             1                         15   \n",
       "...                                     ...                        ...   \n",
       "2008950004890                             1                         15   \n",
       "2008950004890                             1                         15   \n",
       "2008950005704                             1                         15   \n",
       "2008950005704                             1                         15   \n",
       "2008950007931                             1                         15   \n",
       "\n",
       "               Sex_of_Driver  Age_of_Driver  Age_Band_of_Driver  \\\n",
       "Accident_Index                                                    \n",
       "200504AL05063              1             35                   6   \n",
       "200504AL05063              2             71                  10   \n",
       "200504AL05063              1             35                   6   \n",
       "200504AL05063              2             71                  10   \n",
       "200504AL05082              3             -1                  -1   \n",
       "...                      ...            ...                 ...   \n",
       "2008950004890              1             20                   4   \n",
       "2008950004890              1             37                   7   \n",
       "2008950005704              2             52                   8   \n",
       "2008950005704              1             69                  10   \n",
       "2008950007931              1             55                   8   \n",
       "\n",
       "                Engine_Capacity_(CC)  Propulsion_Code  Age_of_Vehicle  \\\n",
       "Accident_Index                                                          \n",
       "200504AL05063                     -1               -1              -1   \n",
       "200504AL05063                     -1               -1              -1   \n",
       "200504AL05063                     -1               -1              -1   \n",
       "200504AL05063                     -1               -1              -1   \n",
       "200504AL05082                   1998                2               2   \n",
       "...                              ...              ...             ...   \n",
       "2008950004890                   1242                1              10   \n",
       "2008950004890                   1905                2              12   \n",
       "2008950005704                     -1               -1              -1   \n",
       "2008950005704                     -1               -1              -1   \n",
       "2008950007931                   1199                1               6   \n",
       "\n",
       "                Driver_IMD_Decile  Driver_Home_Area_Type  \n",
       "Accident_Index                                            \n",
       "200504AL05063                   8                      3  \n",
       "200504AL05063                   8                      3  \n",
       "200504AL05063                   8                      3  \n",
       "200504AL05063                   8                      3  \n",
       "200504AL05082                  -1                     -1  \n",
       "...                           ...                    ...  \n",
       "2008950004890                  -1                      1  \n",
       "2008950004890                  -1                      1  \n",
       "2008950005704                  -1                      1  \n",
       "2008950005704                  -1                      1  \n",
       "2008950007931                  -1                      1  \n",
       "\n",
       "[256 rows x 64 columns]"
      ]
     },
     "execution_count": 46,
     "metadata": {},
     "output_type": "execute_result"
    }
   ],
   "source": [
    "# always 256\n",
    "df[df['Latitude'].isna() & df['Longitude'].isna() & df['Location_Easting_OSGR'].isna() & df['Location_Northing_OSGR'].isna()]"
   ]
  },
  {
   "cell_type": "markdown",
   "metadata": {},
   "source": [
    "Map time value in HH:MM:SS format into total minutes. Fill missing values with the mean."
   ]
  },
  {
   "cell_type": "code",
   "execution_count": 71,
   "metadata": {},
   "outputs": [],
   "source": [
    "df['Time'] = df['Time'].map(lambda x: int(x.split(':')[0])*60 + int(x.split(':')[1]) if type(x) == str else x)\n",
    "df['Time'] = df['Time'].fillna(df['Time'].mean())"
   ]
  },
  {
   "cell_type": "markdown",
   "metadata": {},
   "source": [
    "Map date in DD-MM-AAAA format into timestamp."
   ]
  },
  {
   "cell_type": "code",
   "execution_count": 95,
   "metadata": {},
   "outputs": [],
   "source": [
    "df['Date'] = df['Date'].map(lambda x: pd.to_datetime(x, infer_datetime_format=True ).timestamp())"
   ]
  },
  {
   "cell_type": "markdown",
   "metadata": {},
   "source": [
    "Check the correlation between Latitude and Longitude coordinates and OSGR. Keep only OSGR coordinates and drop also the LSOA feature. "
   ]
  },
  {
   "cell_type": "code",
   "execution_count": 5,
   "metadata": {},
   "outputs": [
    {
     "data": {
      "text/html": [
       "<div>\n",
       "<style scoped>\n",
       "    .dataframe tbody tr th:only-of-type {\n",
       "        vertical-align: middle;\n",
       "    }\n",
       "\n",
       "    .dataframe tbody tr th {\n",
       "        vertical-align: top;\n",
       "    }\n",
       "\n",
       "    .dataframe thead th {\n",
       "        text-align: right;\n",
       "    }\n",
       "</style>\n",
       "<table border=\"1\" class=\"dataframe\">\n",
       "  <thead>\n",
       "    <tr style=\"text-align: right;\">\n",
       "      <th></th>\n",
       "      <th>Latitude</th>\n",
       "      <th>Longitude</th>\n",
       "      <th>Location_Easting_OSGR</th>\n",
       "      <th>Location_Northing_OSGR</th>\n",
       "    </tr>\n",
       "  </thead>\n",
       "  <tbody>\n",
       "    <tr>\n",
       "      <th>Latitude</th>\n",
       "      <td>1.000000</td>\n",
       "      <td>-0.403330</td>\n",
       "      <td>-0.393208</td>\n",
       "      <td>0.999972</td>\n",
       "    </tr>\n",
       "    <tr>\n",
       "      <th>Longitude</th>\n",
       "      <td>-0.403330</td>\n",
       "      <td>1.000000</td>\n",
       "      <td>0.999379</td>\n",
       "      <td>-0.401404</td>\n",
       "    </tr>\n",
       "    <tr>\n",
       "      <th>Location_Easting_OSGR</th>\n",
       "      <td>-0.393208</td>\n",
       "      <td>0.999379</td>\n",
       "      <td>1.000000</td>\n",
       "      <td>-0.391185</td>\n",
       "    </tr>\n",
       "    <tr>\n",
       "      <th>Location_Northing_OSGR</th>\n",
       "      <td>0.999972</td>\n",
       "      <td>-0.401404</td>\n",
       "      <td>-0.391185</td>\n",
       "      <td>1.000000</td>\n",
       "    </tr>\n",
       "  </tbody>\n",
       "</table>\n",
       "</div>"
      ],
      "text/plain": [
       "                        Latitude  Longitude  Location_Easting_OSGR  \\\n",
       "Latitude                1.000000  -0.403330              -0.393208   \n",
       "Longitude              -0.403330   1.000000               0.999379   \n",
       "Location_Easting_OSGR  -0.393208   0.999379               1.000000   \n",
       "Location_Northing_OSGR  0.999972  -0.401404              -0.391185   \n",
       "\n",
       "                        Location_Northing_OSGR  \n",
       "Latitude                              0.999972  \n",
       "Longitude                            -0.401404  \n",
       "Location_Easting_OSGR                -0.391185  \n",
       "Location_Northing_OSGR                1.000000  "
      ]
     },
     "execution_count": 5,
     "metadata": {},
     "output_type": "execute_result"
    }
   ],
   "source": [
    "df[['Latitude', 'Longitude', 'Location_Easting_OSGR', 'Location_Northing_OSGR']].corr()"
   ]
  },
  {
   "cell_type": "code",
   "execution_count": 3,
   "metadata": {},
   "outputs": [],
   "source": [
    "df = df.drop(['Latitude', 'Longitude', 'LSOA_of_Accident_Location'], axis=1)"
   ]
  },
  {
   "cell_type": "markdown",
   "metadata": {},
   "source": [
    "Fill missing OSGR coordinates with the average values."
   ]
  },
  {
   "cell_type": "code",
   "execution_count": 4,
   "metadata": {},
   "outputs": [],
   "source": [
    "df['Location_Easting_OSGR'] = df['Location_Easting_OSGR'].fillna(df['Location_Easting_OSGR'].mean())\n",
    "df['Location_Northing_OSGR'] = df['Location_Northing_OSGR'].fillna(df['Location_Northing_OSGR'].mean())"
   ]
  },
  {
   "cell_type": "markdown",
   "metadata": {},
   "source": [
    "Transform Local Authoty categories into numerical values. "
   ]
  },
  {
   "cell_type": "code",
   "execution_count": 11,
   "metadata": {},
   "outputs": [],
   "source": [
    "df['Local_Authority_(Highway)'] = pd.factorize(df['Local_Authority_(Highway)'])[0]"
   ]
  },
  {
   "cell_type": "markdown",
   "metadata": {},
   "source": [
    "Handle -1 missing values."
   ]
  },
  {
   "cell_type": "code",
   "execution_count": 3,
   "metadata": {},
   "outputs": [],
   "source": [
    "def replace_with_median_inplace(df, col, to_replace=-1):\n",
    "    median = df[df[col] != to_replace][col].median()\n",
    "    df[col] = df[col].replace(to_replace, median)\n"
   ]
  },
  {
   "cell_type": "code",
   "execution_count": 4,
   "metadata": {},
   "outputs": [
    {
     "data": {
      "text/plain": [
       "<BarContainer object of 41 artists>"
      ]
     },
     "execution_count": 4,
     "metadata": {},
     "output_type": "execute_result"
    },
    {
     "data": {
      "image/png": "[encoded data removed]",
      "text/plain": [
       "<Figure size 1080x864 with 1 Axes>"
      ]
     },
     "metadata": {
      "needs_background": "light"
     },
     "output_type": "display_data"
    }
   ],
   "source": [
    "p = []\n",
    "\n",
    "for col in df.columns:\n",
    "    v_c = df[col].value_counts(normalize=True).get(-1.0, 0)\n",
    "    if v_c != 0:\n",
    "        p.append((col, v_c * 100))\n",
    "\n",
    "p.sort(key= lambda el: el[1])\n",
    "\n",
    "fig = plt.figure(figsize=(15, 12))\n",
    "plt.barh([el[0] for el in p], [el[1] for el in p])"
   ]
  },
  {
   "cell_type": "code",
   "execution_count": 5,
   "metadata": {},
   "outputs": [
    {
     "name": "stdout",
     "output_type": "stream",
     "text": [
      "[('1st_Road_Number', 4.6646218519341734e-05), ('Pedestrian_Location', 0.000349846638895063), ('Pedestrian_Movement', 0.00041981596667407567), ('Special_Conditions_at_Site', 0.0007463394963094678), ('Pedestrian_Crossing-Human_Control', 0.0009562474796465056), ('Sex_of_Driver', 0.00107286302594486), ('Junction_Detail', 0.001236124790762556), ('Hit_Object_off_Carriageway', 0.0014460327740995938), ('Carriageway_Hazards', 0.0016559407574366317), ('Bus_or_Coach_Passenger', 0.0017025869759559734), ('Pedestrian_Crossing-Physical_Facilities', 0.002169049161149391), ('Vehicle_Location-Restricted_Lane', 0.002285664707447745), ('Hit_Object_in_Carriageway', 0.002985357985237871), ('Skidding_and_Overturning', 0.003848313027845693), ('Vehicle_Leaving_Carriageway', 0.003848313027845693), ('Towing_and_Articulation', 0.005410961348243641), ('Weather_Conditions', 0.01049539916685189), ('Vehicle_Type', 0.012921002529857662), ('Did_Police_Officer_Attend_Scene_of_Accident', 0.01662937690214533), ('Car_Passenger', 0.020267781946653986), ('Sex_of_Casualty', 0.027801146237527677), ('Vehicle_Manoeuvre', 0.030763181113505875), ('1st_Point_of_Impact', 0.056395278189884164), ('Road_Surface_Conditions', 0.11251067906865227), ('Junction_Location', 0.3211358913964082), ('Was_Vehicle_Left_Hand_Drive?', 0.7843561644027313), ('2nd_Road_Number', 1.048000591474051), ('Journey_Purpose_of_Driver', 1.476492754792724), ('Age_of_Casualty', 2.0051576723816837), ('Age_Band_of_Casualty', 2.0051576723816837), ('Age_of_Driver', 9.461345794715124), ('Age_Band_of_Driver', 9.461345794715124), ('Casualty_Home_Area_Type', 14.029689851625376), ('Driver_Home_Area_Type', 18.307054797411975), ('Propulsion_Code', 23.3733472370162), ('Engine_Capacity_(CC)', 23.99222594122157), ('Age_of_Vehicle', 26.949572872238576), ('Driver_IMD_Decile', 27.117266027815607), ('Junction_Control', 35.79917683418179), ('2nd_Road_Class', 41.67606393610588), ('Pedestrian_Road_Maintenance_Worker', 64.83194650238491)]\n"
     ]
    }
   ],
   "source": [
    "print(p)"
   ]
  },
  {
   "cell_type": "markdown",
   "metadata": {},
   "source": [
    "### Driver_IMD_Decile"
   ]
  },
  {
   "cell_type": "code",
   "execution_count": 7,
   "metadata": {},
   "outputs": [
    {
     "data": {
      "image/png": "[encoded data removed]",
      "text/plain": [
       "<Figure size 360x360 with 1 Axes>"
      ]
     },
     "metadata": {
      "needs_background": "light"
     },
     "output_type": "display_data"
    }
   ],
   "source": [
    "sns.displot(df['Driver_IMD_Decile'])\n",
    "\n",
    "replace_with_median_inplace(df, 'Driver_IMD_Decile')"
   ]
  },
  {
   "cell_type": "markdown",
   "metadata": {},
   "source": [
    "### Age_of_Vehicle"
   ]
  },
  {
   "cell_type": "code",
   "execution_count": 8,
   "metadata": {},
   "outputs": [
    {
     "data": {
      "image/png": "[encoded data removed]",
      "text/plain": [
       "<Figure size 432x288 with 1 Axes>"
      ]
     },
     "metadata": {
      "needs_background": "light"
     },
     "output_type": "display_data"
    }
   ],
   "source": [
    "plt.boxplot(df['Age_of_Vehicle'])\n",
    "plt.show()"
   ]
  },
  {
   "cell_type": "code",
   "execution_count": 9,
   "metadata": {},
   "outputs": [
    {
     "data": {
      "text/plain": [
       "<seaborn.axisgrid.FacetGrid at 0x20150493ee0>"
      ]
     },
     "execution_count": 9,
     "metadata": {},
     "output_type": "execute_result"
    },
    {
     "data": {
      "image/png": "[encoded data removed]",
      "text/plain": [
       "<Figure size 360x360 with 1 Axes>"
      ]
     },
     "metadata": {
      "needs_background": "light"
     },
     "output_type": "display_data"
    }
   ],
   "source": [
    "df['Age_of_Vehicle'] = df['Age_of_Vehicle'].clip(upper=40)\n",
    "\n",
    "replace_with_median_inplace(df, 'Age_of_Vehicle')\n",
    "\n",
    "sns.displot(df['Age_of_Vehicle'])"
   ]
  },
  {
   "cell_type": "markdown",
   "metadata": {},
   "source": [
    "### Engine_Capacity_(CC)"
   ]
  },
  {
   "cell_type": "code",
   "execution_count": 10,
   "metadata": {},
   "outputs": [
    {
     "data": {
      "image/png": "[encoded data removed]",
      "text/plain": [
       "<Figure size 432x288 with 1 Axes>"
      ]
     },
     "metadata": {
      "needs_background": "light"
     },
     "output_type": "display_data"
    }
   ],
   "source": [
    "plt.boxplot(df[\"Engine_Capacity_(CC)\"])\n",
    "plt.show()"
   ]
  },
  {
   "cell_type": "code",
   "execution_count": 11,
   "metadata": {},
   "outputs": [
    {
     "data": {
      "text/plain": [
       "<seaborn.axisgrid.FacetGrid at 0x20150646cd0>"
      ]
     },
     "execution_count": 11,
     "metadata": {},
     "output_type": "execute_result"
    },
    {
     "data": {
      "image/png": "[encoded data removed]",
      "text/plain": [
       "<Figure size 360x360 with 1 Axes>"
      ]
     },
     "metadata": {
      "needs_background": "light"
     },
     "output_type": "display_data"
    }
   ],
   "source": [
    "replace_with_median_inplace(df, 'Engine_Capacity_(CC)')\n",
    "\n",
    "sns.displot(df['Engine_Capacity_(CC)'])"
   ]
  },
  {
   "cell_type": "markdown",
   "metadata": {},
   "source": [
    "### Age of driver and casualty"
   ]
  },
  {
   "cell_type": "code",
   "execution_count": 12,
   "metadata": {},
   "outputs": [
    {
     "data": {
      "image/png": "[encoded data removed]",
      "text/plain": [
       "<Figure size 432x288 with 1 Axes>"
      ]
     },
     "metadata": {
      "needs_background": "light"
     },
     "output_type": "display_data"
    }
   ],
   "source": [
    "plt.boxplot(df['Age_of_Driver'])\n",
    "plt.show()"
   ]
  },
  {
   "cell_type": "code",
   "execution_count": 13,
   "metadata": {},
   "outputs": [],
   "source": [
    "replace_with_median_inplace(df, 'Age_of_Driver')\n",
    "replace_with_median_inplace(df, 'Age_of_Casualty')"
   ]
  },
  {
   "cell_type": "markdown",
   "metadata": {},
   "source": [
    "### Columns drop"
   ]
  },
  {
   "cell_type": "code",
   "execution_count": 15,
   "metadata": {},
   "outputs": [],
   "source": [
    "columns_to_remove = [\"Pedestrian_Road_Maintenance_Worker\", \"2nd_Road_Class\", \"2nd_Road_Number\",\n",
    "\"Junction_Control\", \"Propulsion_Code\", \"Age_Band_of_Driver\", \"Age_Band_of_Casualty\"]\n",
    "\n",
    "df = df.drop(columns=columns_to_remove, axis=1)"
   ]
  },
  {
   "cell_type": "code",
   "execution_count": 18,
   "metadata": {},
   "outputs": [
    {
     "data": {
      "text/plain": [
       "<BarContainer object of 29 artists>"
      ]
     },
     "execution_count": 18,
     "metadata": {},
     "output_type": "execute_result"
    },
    {
     "data": {
      "image/png": "[encoded data removed]",
      "text/plain": [
       "<Figure size 1080x864 with 1 Axes>"
      ]
     },
     "metadata": {
      "needs_background": "light"
     },
     "output_type": "display_data"
    }
   ],
   "source": [
    "p2 = []\n",
    "\n",
    "for col in df.columns:\n",
    "    v_c = df[col].value_counts(normalize=True).get(-1.0, 0)\n",
    "    if v_c != 0:\n",
    "        p2.append((col, v_c * 100))\n",
    "\n",
    "p2.sort(key= lambda el: el[1])\n",
    "\n",
    "fig = plt.figure(figsize=(15, 12))\n",
    "plt.barh([el[0] for el in p2], [el[1] for el in p2])"
   ]
  },
  {
   "cell_type": "code",
   "execution_count": 31,
   "metadata": {},
   "outputs": [],
   "source": [
    "cols = list(df.columns)\n",
    "\n",
    "cols.remove('Accident_Severity')\n",
    "cols.append('Accident_Severity')\n",
    "\n",
    "df = df[cols]"
   ]
  },
  {
   "cell_type": "code",
   "execution_count": 33,
   "metadata": {},
   "outputs": [],
   "source": [
    "df.to_csv(f'{files_path}preprocessed.csv')\n",
    "df.to_pickle(f'{files_path}preprocessed_pickled.pkl')"
   ]
  },
  {
   "cell_type": "markdown",
   "metadata": {},
   "source": [
    "# Decision Tree"
   ]
  },
  {
   "cell_type": "code",
   "execution_count": 2,
   "metadata": {},
   "outputs": [],
   "source": [
    "df = pd.read_pickle(f'{files_path}preprocessed_pickled.pkl')"
   ]
  },
  {
   "cell_type": "code",
   "execution_count": 4,
   "metadata": {},
   "outputs": [],
   "source": [
    "x, y = df.drop('Accident_Severity', axis=1),  df['Accident_Severity']"
   ]
  },
  {
   "cell_type": "code",
   "execution_count": 3,
   "metadata": {},
   "outputs": [
    {
     "data": {
      "text/plain": [
       "3    3607415\n",
       "2     596571\n",
       "1      83607\n",
       "Name: Accident_Severity, dtype: int64"
      ]
     },
     "execution_count": 3,
     "metadata": {},
     "output_type": "execute_result"
    }
   ],
   "source": [
    "df['Accident_Severity'].value_counts()"
   ]
  },
  {
   "cell_type": "code",
   "execution_count": 4,
   "metadata": {},
   "outputs": [],
   "source": [
    "featsFormat = [\n",
    "        \"Continuous\", \"Continuous\", \"Categorical\",\n",
    "        \"Continuous\", \"Continuous\", \"Continuous\",\n",
    "        \"Continuous\",\"Continuous\", \"Categorical\",\n",
    "        \"Categorical\", \"Categorical\", \"Continuous\",\n",
    "        \"Categorical\", \"Continuous\", \"Categorical\",\n",
    "        \"Continuous\", \"Categorical\", \"Continuous\",\n",
    "        \"Continuous\", \"Categorical\", \"Categorical\",\n",
    "        \"Categorical\", \"Categorical\", \"Categorical\",\n",
    "        \"Categorical\", \"Categorical\", \"Continuous\",\n",
    "        \"Continuous\", \"Categorical\", \"Categorical\",\n",
    "        \"Categorical\", \"Categorical\", \"Categorical\",\n",
    "        \"Categorical\", \"Categorical\", \"Categorical\",\n",
    "        \"Categorical\", \"Categorical\", \"Categorical\",\n",
    "        \"Categorical\", \"Categorical\", \"Categorical\",\n",
    "        \"Categorical\", \"Categorical\", \"Categorical\",\n",
    "        \"Categorical\", \"Categorical\", \"Continuous\",\n",
    "        \"Continuous\", \"Continuous\", \"Continuous\",\n",
    "        \"Categorical\"]\n",
    "\n",
    "feat_name_format = list(zip(list(df.drop(columns=\"Accident_Severity\").columns), featsFormat))"
   ]
  },
  {
   "cell_type": "code",
   "execution_count": 5,
   "metadata": {},
   "outputs": [],
   "source": [
    "cat_cols_labels = [coltype[0] for coltype in list(feat_name_format) if coltype[1] == \"Categorical\"]"
   ]
  },
  {
   "cell_type": "code",
   "execution_count": 6,
   "metadata": {},
   "outputs": [],
   "source": [
    "import math\n",
    "\n",
    "def round_half_up(n, decimals=0):\n",
    "    multiplier = 10 ** decimals\n",
    "    return math.floor(n*multiplier + 0.5) / multiplier"
   ]
  },
  {
   "cell_type": "code",
   "execution_count": 7,
   "metadata": {},
   "outputs": [
    {
     "name": "stdout",
     "output_type": "stream",
     "text": [
      "===== 1024 ===== \n",
      "Train dataset done\n",
      "Test dataset done\n",
      "Category consistency train/test: True\n",
      "===== 2048 ===== \n",
      "Train dataset done\n",
      "Test dataset done\n",
      "Category consistency train/test: True\n",
      "===== 4096 ===== \n",
      "Train dataset done\n",
      "Test dataset done\n",
      "Category consistency train/test: True\n",
      "===== 8192 ===== \n",
      "Train dataset done\n",
      "Test dataset done\n",
      "Category consistency train/test: True\n",
      "===== 16384 ===== \n",
      "Train dataset done\n",
      "Test dataset done\n",
      "Category consistency train/test: True\n",
      "===== 32768 ===== \n",
      "Train dataset done\n",
      "Test dataset done\n",
      "Category consistency train/test: True\n",
      "===== 65536 ===== \n",
      "Train dataset done\n",
      "Test dataset done\n",
      "Category consistency train/test: True\n",
      "===== 131072 ===== \n",
      "Train dataset done\n",
      "Test dataset done\n",
      "Category consistency train/test: True\n",
      "===== 262144 ===== \n",
      "Train dataset done\n",
      "Test dataset done\n",
      "Category consistency train/test: True\n",
      "===== 524288 ===== \n",
      "Train dataset done\n",
      "Test dataset done\n",
      "Category consistency train/test: True\n",
      "===== 1048576 ===== \n",
      "Train dataset done\n",
      "Test dataset done\n",
      "Category consistency train/test: True\n",
      "===== 2097152 ===== \n",
      "Train dataset done\n",
      "Test dataset done\n",
      "Category consistency train/test: True\n"
     ]
    }
   ],
   "source": [
    "from sklearn.utils import resample\n",
    "\n",
    "for dim in [1024, 2048, 4096, 8192, 16384, 32768, 65536, 131072, 262144, 524288, 1048576, 2097152]:\n",
    "    print(f\"===== {dim} ===== \")\n",
    "\n",
    "    train_size = int(round_half_up(dim * 0.8))\n",
    "    test_size = int(round_half_up(dim * 0.2))\n",
    "\n",
    "    temp_train = resample(df, replace=False, n_samples=train_size, stratify=df[\"Accident_Severity\"], random_state=42)\n",
    "    print(\"Train dataset done\")\n",
    "\n",
    "    df_no_train = df.drop(temp_train.index, axis=0) # dataset - samples on train\n",
    "\n",
    "    for col in cat_cols_labels:\n",
    "        # print(f\"Category {col}:\")\n",
    "        # print(f\"\\ton train: {len(temp_train[col].unique())} unique values\")\n",
    "        # now remove from df_no_train samples with different values\n",
    "        # print(f\"\\ton the remainig dataset({df_no_train.shape[0]} samples): {len(df_no_train[col].unique())} unique values\")\n",
    "        df_no_train = df_no_train.loc[df_no_train[col].isin(temp_train[col].unique())] # only get values that are in \n",
    "        # print(f\"\\t\\tafter the drop ({df_no_train.shape[0]} samples): {len(df_no_train[col].unique())} unique values\")\n",
    "\n",
    "    temp_test = df_no_train.sample(n=test_size, random_state=42)\n",
    "    print(\"Test dataset done\")\n",
    "\n",
    "    t = [len([el for el in list(temp_test[cat].value_counts().index) if el not in list(temp_train[cat].value_counts().index)]) for cat in cat_cols_labels]\n",
    "    consistency = all([el == 0 for el in t])\n",
    "    \n",
    "    print(f\"Category consistency train/test: {consistency}\")\n",
    "\n",
    "    if consistency:\n",
    "        temp_train.to_pickle(f'{main_data_path}input_train_{dim}.pkl')\n",
    "        temp_test.to_pickle(f'{main_data_path}input_test_{dim}.pkl')\n",
    "\n",
    "        temp_train.to_csv(f'{main_data_path}input_train_{dim}.csv')\n",
    "        temp_test.to_csv(f'{main_data_path}input_test_{dim}.csv')\n",
    "    else:\n",
    "        print(\"DS not saved due to inconsistency\")"
   ]
  },
  {
   "cell_type": "code",
   "execution_count": 11,
   "metadata": {},
   "outputs": [],
   "source": [
    "# check there arent same indexes\n",
    "d1 = pd.read_csv(f'{main_data_path}input_train_8192.csv', index_col=0)\n",
    "d2 = pd.read_csv(f'{main_data_path}input_test_8192.csv', index_col=0)"
   ]
  },
  {
   "cell_type": "code",
   "execution_count": 14,
   "metadata": {},
   "outputs": [
    {
     "name": "stdout",
     "output_type": "stream",
     "text": [
      "Police_Force\n",
      "[ 1  3  4  5  6  7 10 11 12 13 14 16 17 20 21 22 23 30 31 32 33 34 35 36\n",
      " 37 40 41 42 43 44 45 46 47 48 50 52 53 54 55 60 61 62 63 91 92 93 94 95\n",
      " 96 97 98]\n",
      "[ 1  3  4  5  6  7 10 11 12 13 14 16 17 20 21 22 23 30 31 32 33 34 35 36\n",
      " 37 40 41 42 43 44 45 46 47 50 52 53 54 55 60 61 62 63 91 92 93 94 95 96\n",
      " 97 98]\n",
      "Local_Authority_(District)\n",
      "[  1   2   3   4   5   6   7   8   9  10  11  12  13  14  15  16  17  18\n",
      "  19  20  21  22  23  24  25  26  27  28  29  30  31  32  33  38  40  57\n",
      "  60  61  62  63  64  65  70  71  72  73  74  75  76  77  79  80  82  83\n",
      "  84  85  90  91  92  93  95 100 101 102 104 106 107 109 110 112 114 120\n",
      " 121 122 123 124 126 127 128 129 130 139 140 141 142 143 144 145 146 147\n",
      " 148 149 150 160 161 162 163 164 165 168 169 180 181 182 184 185 186 187\n",
      " 189 200 202 203 204 206 210 211 213 215 228 231 232 233 240 241 243 245\n",
      " 250 251 252 253 254 255 256 257 258 270 273 274 276 277 278 279 280 281\n",
      " 282 283 284 285 286 290 291 292 293 294 300 302 303 305 306 307 309 320\n",
      " 321 322 323 324 325 327 328 329 340 341 342 343 344 345 346 347 350 351\n",
      " 352 353 354 355 356 360 361 362 363 364 365 366 367 380 381 382 383 384\n",
      " 385 386 390 391 392 393 394 395 400 401 402 404 405 406 407 410 411 412\n",
      " 413 414 415 416 420 421 422 423 424 430 431 432 433 434 435 436 437 438\n",
      " 450 451 452 453 454 455 456 457 458 459 460 461 462 463 470 471 472 473\n",
      " 474 475 476 477 478 479 480 481 482 483 484 485 490 491 492 493 494 495\n",
      " 496 497 498 499 500 501 502 505 510 511 512 513 514 515 516 517 518 530\n",
      " 531 532 533 535 536 538 539 540 541 542 543 544 551 552 554 555 556 557\n",
      " 558 559 560 562 563 564 565 570 580 581 582 583 584 585 586 587 588 589\n",
      " 590 591 592 593 594 595 596 601 605 606 607 608 609 610 611 612 620 621\n",
      " 622 623 624 625 630 631 632 633 634 635 640 641 642 643 644 645 646 647\n",
      " 720 721 722 723 724 725 730 731 732 733 734 740 741 742 743 744 745 746\n",
      " 750 751 752 753 910 911 912 913 914 915 916 917 918 919 920 921 922 923\n",
      " 924 925 926 927 928 929 930 931 932 933 934 935 937 938 939 940 941]\n",
      "[  1   2   3   4   5   6   7   8   9  10  11  12  13  14  15  16  17  18\n",
      "  19  20  21  22  23  24  25  26  27  28  29  30  31  33  38  40  60  61\n",
      "  62  64  65  70  71  72  73  74  75  76  77  79  82  83  84  85  90  91\n",
      "  92  93  95 100 101 102 104 106 107 109 110 112 114 120 121 122 123 124\n",
      " 126 127 128 129 130 139 143 144 146 147 148 149 150 161 162 165 168 169\n",
      " 180 181 182 184 185 186 187 189 200 202 203 204 206 210 211 213 215 228\n",
      " 231 232 233 240 241 243 245 250 251 252 253 254 255 256 257 258 270 273\n",
      " 274 276 277 278 279 280 281 282 283 284 285 286 290 291 293 294 300 302\n",
      " 303 305 306 307 309 320 321 322 323 324 325 327 328 329 340 341 342 343\n",
      " 344 345 346 347 350 351 352 353 354 355 356 360 361 362 363 364 365 366\n",
      " 381 382 383 384 386 390 391 392 393 394 395 400 401 404 405 406 407 410\n",
      " 411 412 413 414 415 416 420 421 422 423 424 431 432 433 434 435 436 437\n",
      " 438 450 451 452 453 454 455 456 458 459 460 461 462 463 470 471 472 473\n",
      " 474 475 476 478 479 480 481 482 483 484 485 490 491 494 495 496 498 499\n",
      " 500 501 502 505 510 511 512 513 514 515 516 517 518 530 531 532 533 535\n",
      " 536 538 539 540 541 542 543 544 552 554 555 556 557 558 559 560 562 563\n",
      " 564 565 580 581 582 583 584 585 587 588 589 590 591 592 594 595 596 601\n",
      " 605 606 607 608 609 610 611 612 620 621 622 623 625 632 633 634 635 640\n",
      " 641 642 643 644 645 646 647 721 722 723 724 725 730 731 732 733 734 740\n",
      " 741 743 744 745 746 750 751 752 753 910 911 912 913 915 916 917 918 919\n",
      " 920 921 923 925 926 927 928 929 931 932 934 935 937 938 939 940]\n",
      "Local_Authority_(Highway)\n",
      "[  0   1   2   3   4   5   6   7   8   9  10  11  12  13  14  15  16  17\n",
      "  18  19  20  21  22  23  24  25  26  27  28  29  30  31  32  33  34  35\n",
      "  36  37  38  39  40  41  42  43  44  45  46  47  48  49  50  51  52  53\n",
      "  54  55  56  57  58  59  60  61  62  63  64  65  66  67  68  69  70  71\n",
      "  72  73  74  75  76  77  78  79  80  81  82  83  84  85  86  87  88  89\n",
      "  90  91  92  93  94  95  96  97  98  99 100 101 102 103 104 106 107 108\n",
      " 109 110 111 112 113 114 115 116 117 118 119 120 121 122 123 124 125 126\n",
      " 127 128 129 130 131 132 133 134 135 136 137 139 140 141 142 143 144 145\n",
      " 146 147 148 149 150 151 152 153 154 155 156 157 158 159 160 161 162 163\n",
      " 164 165 166 167 168 169 170 171 172 173 174 175 176 177 179 180 181 182\n",
      " 183 184 185 186 187 188 189 190 191 192 193 194 195 196 197 198 199 200\n",
      " 201 202 203 204 205 206]\n",
      "[  0   1   2   4   5   6   7   8   9  10  11  12  13  14  15  16  18  19\n",
      "  20  22  23  24  25  26  27  28  29  30  31  32  33  34  35  36  37  38\n",
      "  39  40  41  42  43  44  45  46  47  48  49  50  51  52  53  54  55  56\n",
      "  57  58  59  60  61  62  63  64  65  66  67  68  69  70  71  72  73  74\n",
      "  75  76  77  78  79  80  81  82  83  84  85  86  87  88  89  90  91  92\n",
      "  93  94  95  96  97  98  99 100 101 102 103 104 106 107 108 109 110 111\n",
      " 112 113 114 115 116 117 118 119 120 121 122 123 124 125 126 127 128 129\n",
      " 130 131 132 133 134 135 136 137 139 140 141 142 143 144 145 146 147 148\n",
      " 149 150 151 152 154 155 156 157 158 159 160 161 162 163 164 166 167 168\n",
      " 169 170 171 172 173 174 175 179 181 182 183 184 185 186 188 189 190 192\n",
      " 193 194 195 197 198 199 200 201 202 203 204 205 206]\n",
      "1st_Road_Class\n",
      "[1 2 3 4 5 6]\n",
      "[1 2 3 4 5 6]\n",
      "Road_Type\n",
      "[1 2 3 6 7 9]\n",
      "[1 2 3 6 7 9]\n",
      "Junction_Detail\n",
      "[0 1 2 3 5 6 7 8 9]\n",
      "[0 1 2 3 5 6 7 8 9]\n",
      "Pedestrian_Crossing-Physical_Facilities\n",
      "[0 1 4 5 7 8]\n",
      "[0 1 4 5 7 8]\n",
      "Road_Surface_Conditions\n",
      "[-1  1  2  3  4  5]\n",
      "[-1  1  2  3  4  5]\n",
      "Special_Conditions_at_Site\n",
      "[0 1 2 3 4 5 6 7]\n",
      "[0 1 3 4 5 6 7]\n",
      "Carriageway_Hazards\n",
      "[0 1 2 3 6 7]\n",
      "[0 1 2 3 6 7]\n",
      "Urban_or_Rural_Area\n",
      "[1 2 3]\n",
      "[1 2]\n",
      "Did_Police_Officer_Attend_Scene_of_Accident\n",
      "[1 2 3]\n",
      "[1 2 3]\n",
      "Casualty_Class\n",
      "[1 2 3]\n",
      "[1 2 3]\n",
      "Sex_of_Casualty\n",
      "[-1  1  2]\n",
      "[1 2]\n",
      "Pedestrian_Location\n",
      "[ 0  1  2  3  4  5  6  7  8  9 10]\n",
      "[ 0  1  2  4  5  6  8  9 10]\n",
      "Pedestrian_Movement\n",
      "[0 1 2 3 4 5 6 7 8 9]\n",
      "[0 1 2 3 4 5 7 8 9]\n",
      "Car_Passenger\n",
      "[-1  0  1  2]\n",
      "[0 1 2]\n",
      "Bus_or_Coach_Passenger\n",
      "[0 1 2 3 4]\n",
      "[0 1 2 3 4]\n",
      "Casualty_Type\n",
      "[ 0  1  2  3  4  5  8  9 10 11 16 17 19 20 21 22 90]\n",
      "[ 0  1  2  3  4  5  8  9 10 11 19 20 21 90]\n",
      "Casualty_Home_Area_Type\n",
      "[-1  1  2  3]\n",
      "[-1  1  2  3]\n",
      "Vehicle_Type\n",
      "[-1  1  2  3  4  5  8  9 10 11 16 17 19 20 21 22 90]\n",
      "[ 1  2  3  4  5  8  9 10 11 17 19 20 21 90]\n",
      "Towing_and_Articulation\n",
      "[0 1 2 3 4 5]\n",
      "[0 1 3 4 5]\n",
      "Vehicle_Manoeuvre\n",
      "[-1  1  2  3  4  5  6  7  8  9 10 11 12 13 14 15 16 17 18]\n",
      "[-1  1  2  3  4  5  6  7  8  9 10 11 12 13 14 15 16 17 18]\n",
      "Vehicle_Location-Restricted_Lane\n",
      "[-1  0  1  2  3  4  5  6  7  8  9]\n",
      "[0 1 2 3 4 5 6 7 8 9]\n",
      "Junction_Location\n",
      "[-1  0  1  2  3  4  5  6  7  8]\n",
      "[-1  0  1  2  3  4  5  6  7  8]\n",
      "Skidding_and_Overturning\n",
      "[0 1 2 3 5]\n",
      "[0 1 2 3 5]\n",
      "Hit_Object_in_Carriageway\n",
      "[ 0  1  2  4  5  6  7  8  9 10 11 12]\n",
      "[ 0  2  4  6  7  8  9 10 11 12]\n",
      "Vehicle_Leaving_Carriageway\n",
      "[0 1 2 3 4 5 6 7 8]\n",
      "[0 1 2 3 4 5 6 7 8]\n",
      "Hit_Object_off_Carriageway\n",
      "[ 0  1  2  3  4  5  6  7  8  9 10 11]\n",
      "[ 0  1  2  3  4  5  6  7  9 10 11]\n",
      "1st_Point_of_Impact\n",
      "[-1  0  1  2  3  4]\n",
      "[0 1 2 3 4]\n",
      "Was_Vehicle_Left_Hand_Drive?\n",
      "[-1  1  2]\n",
      "[-1  1  2]\n",
      "Journey_Purpose_of_Driver\n",
      "[-1  1  2  3  4  5  6 15]\n",
      "[-1  1  2  3  4  5  6 15]\n",
      "Sex_of_Driver\n",
      "[1 2 3]\n",
      "[1 2 3]\n",
      "Driver_Home_Area_Type\n",
      "[-1  1  2  3]\n",
      "[-1  1  2  3]\n"
     ]
    }
   ],
   "source": [
    "for cat in cat_cols_labels:\n",
    "    print(cat)\n",
    "    \n",
    "    e1 = d1[cat].unique()\n",
    "    e1.sort()\n",
    "\n",
    "    e2 = d2[cat].unique()\n",
    "    e2.sort()\n",
    "\n",
    "    print(e1)\n",
    "    print(e2)   \n",
    "    "
   ]
  },
  {
   "cell_type": "code",
   "execution_count": 5,
   "metadata": {},
   "outputs": [
    {
     "name": "stdout",
     "output_type": "stream",
     "text": [
      "3    692\n",
      "2    109\n",
      "1     18\n",
      "Name: Accident_Severity, dtype: int64\n",
      "3    1381\n",
      "2     224\n",
      "1      33\n",
      "Name: Accident_Severity, dtype: int64\n",
      "3    2770\n",
      "2     452\n",
      "1      54\n",
      "Name: Accident_Severity, dtype: int64\n",
      "3    5545\n",
      "2     885\n",
      "1     123\n",
      "Name: Accident_Severity, dtype: int64\n",
      "3    11073\n",
      "2     1783\n",
      "1      251\n",
      "Name: Accident_Severity, dtype: int64\n",
      "3    22154\n",
      "2     3563\n",
      "1      497\n",
      "Name: Accident_Severity, dtype: int64\n",
      "3    44123\n",
      "2     7281\n",
      "1     1024\n",
      "Name: Accident_Severity, dtype: int64\n",
      "3    88387\n",
      "2    14490\n",
      "1     1980\n",
      "Name: Accident_Severity, dtype: int64\n",
      "3    176508\n",
      "2     29159\n",
      "1      4048\n",
      "Name: Accident_Severity, dtype: int64\n",
      "3    352672\n",
      "2     58505\n",
      "1      8253\n",
      "Name: Accident_Severity, dtype: int64\n",
      "3    705289\n",
      "2    116995\n",
      "1     16576\n",
      "Name: Accident_Severity, dtype: int64\n",
      "3    1411257\n",
      "2     233619\n",
      "1      32845\n",
      "Name: Accident_Severity, dtype: int64\n"
     ]
    }
   ],
   "source": [
    "# import numpy as np\n",
    "\n",
    "# # power of two\n",
    "# for dim in [1024, 2048, 4096, 8192, 16384, 32768, 65536, 131072, 262144, 524288, 1048576, 2097152]:\n",
    "#     temp_train, temp_test = train_test_split(df.sample(n=dim, random_state=42), test_size = 0.2)\n",
    "#     print(temp_train['Accident_Severity'].value_counts())\n",
    "\n",
    "#     temp_train.to_pickle(f'{main_data_path}input_train_{dim}.pkl')\n",
    "#     temp_test.to_pickle(f'{main_data_path}input_test_{dim}.pkl')"
   ]
  },
  {
   "cell_type": "markdown",
   "metadata": {},
   "source": [
    "## Decision Tree"
   ]
  },
  {
   "cell_type": "code",
   "execution_count": 18,
   "metadata": {},
   "outputs": [],
   "source": [
    "dt = DecisionTreeClassifier()\n",
    "\n",
    "r = dt.fit(x.iloc[:3_000_000, :], y.iloc[:3_000_000])"
   ]
  },
  {
   "cell_type": "code",
   "execution_count": null,
   "metadata": {},
   "outputs": [],
   "source": [
    "r.score(x.iloc[:3_000_000 , :], y.iloc[:3_000_000])"
   ]
  },
  {
   "cell_type": "code",
   "execution_count": null,
   "metadata": {},
   "outputs": [],
   "source": [
    "r.score(x.iloc[3_000_000: , :], y.iloc[3_000_000:])"
   ]
  }
 ],
 "metadata": {
  "kernelspec": {
   "display_name": "Python 3.9.10 ('ml-env')",
   "language": "python",
   "name": "python3"
  },
  "language_info": {
   "codemirror_mode": {
    "name": "ipython",
    "version": 3
   },
   "file_extension": ".py",
   "mimetype": "text/x-python",
   "name": "python",
   "nbconvert_exporter": "python",
   "pygments_lexer": "ipython3",
   "version": "3.9.10"
  },
  "orig_nbformat": 4,
  "vscode": {
   "interpreter": {
    "hash": "801db0422983b7b0a88b1867e1c191f1c8a74c49926eef68fac0019becddccd3"
   }
  }
 },
 "nbformat": 4,
 "nbformat_minor": 2
}
