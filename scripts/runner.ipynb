{
 "cells": [
  {
   "cell_type": "code",
   "execution_count": 1,
   "metadata": {},
   "outputs": [],
   "source": [
    "import os\n",
    "import subprocess\n"
   ]
  },
  {
   "cell_type": "code",
   "execution_count": 3,
   "metadata": {},
   "outputs": [
    {
     "data": {
      "text/plain": [
       "'/data/Documents/Projects/Scala/FinalProject'"
      ]
     },
     "execution_count": 3,
     "metadata": {},
     "output_type": "execute_result"
    }
   ],
   "source": [
    "# os.chdir('..')\n",
    "os.getcwd()"
   ]
  },
  {
   "cell_type": "code",
   "execution_count": 8,
   "metadata": {},
   "outputs": [
    {
     "name": "stdout",
     "output_type": "stream",
     "text": [
      "input_256.csv:\t1.86875936\n",
      "input_512.csv:\t5.665080611\n",
      "input_1024.csv:\t20.451545647\n",
      "input_2048.csv:\t106.705552897\n",
      "input_4096.csv:\t"
     ]
    }
   ],
   "source": [
    "datapath = './data'\n",
    "# input = \"input_cut_5000_new.csv\"\n",
    "for input in ['input_256.csv', 'input_512.csv', 'input_1024.csv', 'input_2048.csv', 'input_4096.csv']:\n",
    "  print(input + \":\", end='\\t')\n",
    "  subprocess.run([\"java\", \"-jar\", \"./target/scala-2.12/FinalProject-assembly-0.1.0-SNAPSHOT.jar\", os.path.join(datapath, input)])"
   ]
  },
  {
   "cell_type": "code",
   "execution_count": null,
   "metadata": {},
   "outputs": [],
   "source": []
  }
 ],
 "metadata": {
  "kernelspec": {
   "display_name": "Python 3.9.10 ('venv': venv)",
   "language": "python",
   "name": "python3"
  },
  "language_info": {
   "codemirror_mode": {
    "name": "ipython",
    "version": 3
   },
   "file_extension": ".py",
   "mimetype": "text/x-python",
   "name": "python",
   "nbconvert_exporter": "python",
   "pygments_lexer": "ipython3",
   "version": "3.9.10"
  },
  "orig_nbformat": 4,
  "vscode": {
   "interpreter": {
    "hash": "492d95e6d494b0f5351d0faf5b480af904a7b4fc5f65f2c9dc8488ec10c24b25"
   }
  }
 },
 "nbformat": 4,
 "nbformat_minor": 2
}
