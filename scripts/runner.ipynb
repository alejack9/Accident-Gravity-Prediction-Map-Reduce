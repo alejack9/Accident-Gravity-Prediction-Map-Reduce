{
 "cells": [
  {
   "cell_type": "code",
   "execution_count": 1,
   "metadata": {},
   "outputs": [],
   "source": [
    "import os\n",
    "import subprocess\n"
   ]
  },
  {
   "cell_type": "code",
   "execution_count": 2,
   "metadata": {},
   "outputs": [
    {
     "data": {
      "text/plain": [
       "'d:\\\\Universita\\\\Magistrale\\\\2_Anno\\\\Scalable and Cloud Programming\\\\Progetto\\\\Accident-Severity-Prediction-Map-Reduce'"
      ]
     },
     "execution_count": 2,
     "metadata": {},
     "output_type": "execute_result"
    }
   ],
   "source": [
    "os.chdir('..')\n",
    "os.getcwd()"
   ]
  },
  {
   "cell_type": "code",
   "execution_count": 3,
   "metadata": {},
   "outputs": [
    {
     "name": "stdout",
     "output_type": "stream",
     "text": [
      "4096... ok\n"
     ]
    }
   ],
   "source": [
    "from datetime import datetime\n",
    "\n",
    "\n",
    "datapath = './data'\n",
    "# input = \"input_cut_5000_new.csv\"\n",
    "# for dim in [1_024, 4_096, 16_384, 65_536, 262_144, 524_288, 1_048_576, 2_097_152]:\n",
    "train_input = os.path.join(datapath, f\"input_train_{4096}.csv\")\n",
    "test_input = os.path.join(datapath, f\"input_test_{4096}.csv\")\n",
    "\n",
    "f = open(os.path.join(datapath, f\"{4096}_results.txt\"), \"a\")\n",
    "q = open(os.path.join(datapath, f\"{4096}_error.txt\"), \"a\")\n",
    "\n",
    "f.write(\"===========\" + datetime.now().strftime(\"%m/%d - %H:%M\"))\n",
    "print(f\"{4096}...\", end=' ')\n",
    "subprocess.call([\"java\", \"-jar\", \"./target/scala-2.12/FinalProject-assembly-0.1.0-SNAPSHOT.jar\", train_input, test_input], stdout=f, stderr=q)\n",
    "\n",
    "f.close()\n",
    "print(\"ok\")"
   ]
  },
  {
   "cell_type": "code",
   "execution_count": 4,
   "metadata": {},
   "outputs": [],
   "source": [
    "q.close()"
   ]
  }
 ],
 "metadata": {
  "kernelspec": {
   "display_name": "Python 3.9.6 64-bit",
   "language": "python",
   "name": "python3"
  },
  "language_info": {
   "codemirror_mode": {
    "name": "ipython",
    "version": 3
   },
   "file_extension": ".py",
   "mimetype": "text/x-python",
   "name": "python",
   "nbconvert_exporter": "python",
   "pygments_lexer": "ipython3",
   "version": "3.9.6"
  },
  "orig_nbformat": 4,
  "vscode": {
   "interpreter": {
    "hash": "41c13a82859d9c8eeaae64bb03e81fbe8994b6a8069bf7bdf2d82d735be1fecb"
   }
  }
 },
 "nbformat": 4,
 "nbformat_minor": 2
}
