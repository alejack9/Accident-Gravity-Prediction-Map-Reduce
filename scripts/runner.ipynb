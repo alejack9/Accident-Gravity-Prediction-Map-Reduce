{
 "cells": [
  {
   "cell_type": "code",
   "execution_count": 1,
   "metadata": {},
   "outputs": [],
   "source": [
    "import os\n",
    "import subprocess\n"
   ]
  },
  {
   "cell_type": "code",
   "execution_count": 2,
   "metadata": {},
   "outputs": [
    {
     "data": {
      "text/plain": [
       "'d:\\\\Universita\\\\Magistrale\\\\2_Anno\\\\Scalable and Cloud Programming\\\\Progetto\\\\Accident-Severity-Prediction-Map-Reduce'"
      ]
     },
     "execution_count": 2,
     "metadata": {},
     "output_type": "execute_result"
    }
   ],
   "source": [
    "os.chdir('..')\n",
    "os.getcwd()"
   ]
  },
  {
   "cell_type": "code",
   "execution_count": 3,
   "metadata": {},
   "outputs": [
    {
     "name": "stdout",
     "output_type": "stream",
     "text": [
      "256... ok\n"
     ]
    }
   ],
   "source": [
    "from datetime import datetime\n",
    "\n",
    "# jars = {\n",
    "#     \"seq\" : \"./target/scala-2.12/FinalProject-assembly-0.1.0-SNAPSHOT.jar\",\n",
    "#     \"par\": \"./target/scala-2.12/FinalProject-assembly-0.1.0-PAR.jar\"\n",
    "# }\n",
    "\n",
    "datapath = './data'\n",
    "# input = \"input_cut_5000_new.csv\"\n",
    "# for dim in [1_024, 4_096, 16_384, 65_536, 262_144, 524_288, 1_048_576, 2_097_152]:\n",
    "train_input = os.path.join(datapath, f\"input_train_256.csv\")\n",
    "test_input = os.path.join(datapath, f\"input_test_256.csv\")\n",
    "\n",
    "f = open(os.path.join(datapath, f\"256_results.log\"), \"a\")\n",
    "q = open(os.path.join(datapath, f\"256_error.log\"), \"a\")\n",
    "\n",
    "print(f\"256...\", end=' ')\n",
    "\n",
    "run_date = datetime.now().strftime(\"%m/%d - %H:%M\")\n",
    "f.write(\"\\r\\n===========\" + run_date )\n",
    "q.write(\"\\r\\n===========\" + run_date )\n",
    "f.close()\n",
    "q.close()\n",
    "\n",
    "f = open(os.path.join(datapath, f\"256_results.log\"), \"a\")\n",
    "q = open(os.path.join(datapath, f\"256_error.log\"), \"a\")\n",
    "\n",
    "for x in [\"seq\", \"par\"]:\n",
    "    f.write(x+\":\\r\\n\")\n",
    "    subprocess.call([\"java\", \"-Xmx10G\", \"-Xss5G\", \"-jar\", \"./target/scala-2.12/FinalProject-assembly-0.1.0-SNAPSHOT.jar\", train_input, test_input, x], stdout=f, stderr=q)\n",
    "\n",
    "f.write(\"\\r\\n\")\n",
    "q.write(\"\\r\\n\")\n",
    "\n",
    "f.close()\n",
    "q.close()\n",
    "\n",
    "print(\"ok\")"
   ]
  }
 ],
 "metadata": {
  "kernelspec": {
   "display_name": "Python 3.9.6 64-bit",
   "language": "python",
   "name": "python3"
  },
  "language_info": {
   "codemirror_mode": {
    "name": "ipython",
    "version": 3
   },
   "file_extension": ".py",
   "mimetype": "text/x-python",
   "name": "python",
   "nbconvert_exporter": "python",
   "pygments_lexer": "ipython3",
   "version": "3.9.6"
  },
  "orig_nbformat": 4,
  "vscode": {
   "interpreter": {
    "hash": "41c13a82859d9c8eeaae64bb03e81fbe8994b6a8069bf7bdf2d82d735be1fecb"
   }
  }
 },
 "nbformat": 4,
 "nbformat_minor": 2
}
